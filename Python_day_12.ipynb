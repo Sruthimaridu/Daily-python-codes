{
  "nbformat": 4,
  "nbformat_minor": 0,
  "metadata": {
    "colab": {
      "provenance": [],
      "authorship_tag": "ABX9TyNz04OMZR+T3vt07AtAViq9",
      "include_colab_link": true
    },
    "kernelspec": {
      "name": "python3",
      "display_name": "Python 3"
    },
    "language_info": {
      "name": "python"
    }
  },
  "cells": [
    {
      "cell_type": "markdown",
      "metadata": {
        "id": "view-in-github",
        "colab_type": "text"
      },
      "source": [
        "<a href=\"https://colab.research.google.com/github/Sruthimaridu/Daily-python-codes/blob/main/Python_day_12.ipynb\" target=\"_parent\"><img src=\"https://colab.research.google.com/assets/colab-badge.svg\" alt=\"Open In Colab\"/></a>"
      ]
    },
    {
      "cell_type": "code",
      "execution_count": 1,
      "metadata": {
        "colab": {
          "base_uri": "https://localhost:8080/"
        },
        "id": "gl2q8mbPVvIr",
        "outputId": "8fa1e0e0-358b-4a0b-b87c-47024c9da0cb"
      },
      "outputs": [
        {
          "output_type": "stream",
          "name": "stdout",
          "text": [
            "Enter an integer: 3749\n",
            "MMMDCCXLIX\n"
          ]
        }
      ],
      "source": [
        "#program to convert integer into roman\n",
        "def int_to_roman(num):\n",
        "    val = [1000, 900, 500, 400, 100, 90, 50, 40, 10, 9, 5, 4, 1]\n",
        "    symbols = [\"M\", \"CM\", \"D\", \"CD\", \"C\", \"XC\", \"L\", \"XL\", \"X\", \"IX\", \"V\", \"IV\", \"I\"]\n",
        "    roman = \"\"\n",
        "    for i in range(len(val)):\n",
        "        while num >= val[i]:\n",
        "            roman += symbols[i]\n",
        "            num -= val[i]\n",
        "    return roman\n",
        "num = int(input(\"Enter an integer: \"))\n",
        "print(int_to_roman(num))\n"
      ]
    }
  ]
}