{
  "nbformat": 4,
  "nbformat_minor": 0,
  "metadata": {
    "colab": {
      "provenance": [],
      "authorship_tag": "ABX9TyPrOKO265lShPlsCdSCY85m",
      "include_colab_link": true
    },
    "kernelspec": {
      "name": "python3",
      "display_name": "Python 3"
    },
    "language_info": {
      "name": "python"
    }
  },
  "cells": [
    {
      "cell_type": "markdown",
      "metadata": {
        "id": "view-in-github",
        "colab_type": "text"
      },
      "source": [
        "<a href=\"https://colab.research.google.com/github/Sruthimaridu/Daily-python-codes/blob/main/Python_day6.ipynb\" target=\"_parent\"><img src=\"https://colab.research.google.com/assets/colab-badge.svg\" alt=\"Open In Colab\"/></a>"
      ]
    },
    {
      "cell_type": "markdown",
      "source": [
        "**SMALEST PRODUCT **\n",
        "\n",
        "def ProductSmallestPair(sum, arr)\n",
        "The function accepts an integers sum and an integer array arr of size n.\n",
        "Implement the function to find the pair, (arr[j], arr[k]) where j!=k, Such\n",
        "that arr[j] and arr[k] are the least two elements of array (arr[j] + arr[k]\n",
        "<= sum) and return the product of element of this pair\n",
        "\n",
        "NOTE:\n",
        "\n",
        "Return -1 if array is empty or\n",
        "\n",
        " if n<2 Return 0,\n",
        "\n",
        " if no such pairs found\n",
        "All computed values lie within integer range\n",
        "\n",
        "\n",
        "Example\n",
        "\n",
        "Input\n",
        "sum:9\n",
        "\n",
        "size of Arr = 7\n",
        "\n",
        "Arr:5 2 4 3 9 7 1\n",
        "\n",
        "Output\n",
        "\n",
        "2\n",
        "\n",
        "Explanation\n",
        "\n",
        "Pair of least two element is (2, 1) 2 + 1 = 3 < 9, Product of (2, 1) 2*1 = 2.\n",
        "\n",
        "Thus, output is 2\n",
        "\n",
        "Sample Input\n",
        "\n",
        "sum:4\n",
        "\n",
        "size of Arr = 6\n",
        "\n",
        "Arr:9 8 3 -7 3 9\n",
        "\n",
        "Sample Output -21"
      ],
      "metadata": {
        "id": "bgOQAiqE9BBg"
      }
    },
    {
      "cell_type": "code",
      "execution_count": null,
      "metadata": {
        "colab": {
          "base_uri": "https://localhost:8080/"
        },
        "id": "Spw-MUhV87Tr",
        "outputId": "11d92392-5274-4e6f-b818-1016cfa8cac0"
      },
      "outputs": [
        {
          "output_type": "stream",
          "name": "stdout",
          "text": [
            "4\n",
            "9 8 3 -7 3 9\n",
            "-21\n"
          ]
        }
      ],
      "source": [
        "def smallestproduct(sum,arr):\n",
        "  if len(arr)<2:\n",
        "         return -1\n",
        "  arr.sort()\n",
        "  smallsum=arr[0]+arr[1]\n",
        "  if smallsum<=sum:\n",
        "    return arr[0]*arr[1]\n",
        "  return 0\n",
        "sum=int(input())\n",
        "arr=list(map(int,input().split()))\n",
        "print(smallestproduct(sum,arr))\n",
        "\n"
      ]
    },
    {
      "cell_type": "markdown",
      "source": [
        "** MOVES**\n",
        "\n",
        "char*MoveHyphen(char str[],int n);\n",
        "\n",
        "The function accepts a string “str” of length ‘n’, that contains alphabets\n",
        "and hyphens (-). Implement the function to move all hyphens(-) in the\n",
        "string to the front of the given string.\n",
        "\n",
        "NOTE:- Return null if str is null.\n",
        "\n",
        "Example :-\n",
        "\n",
        "Input:\n",
        "\n",
        "str.Move-Hyphens-to-Front\n",
        "\n",
        "Output:\n",
        "\n",
        "—MoveHyphenstoFront\n",
        "\n",
        "\n",
        "Explanation:-\n",
        "\n",
        "The string “Move-Hyphens -to-front” has 3 hyphens (-), which are\n",
        "\n",
        "\n",
        "moved to the front of the string, this output is “— MoveHyphen”\n",
        "\n",
        "Sample Input\n",
        "\n",
        "Str: String-Compare\n",
        "\n",
        "Sample Output- -StringCompare"
      ],
      "metadata": {
        "id": "oxLO1SmC9AUd"
      }
    },
    {
      "cell_type": "code",
      "source": [
        "def fronthyphens(str,n):\n",
        "  hyphens=\"\"\n",
        "  s=\"\"\n",
        "  if str==None:\n",
        "    return None\n",
        "  for i in str:\n",
        "      if i==\"-\":\n",
        "          hyphens+=i\n",
        "      else:\n",
        "          s+=i\n",
        "  return hyphens+s\n",
        "str=input()\n",
        "print(fronthyphens(str,len(str)))"
      ],
      "metadata": {
        "id": "F-zY5lX_ANy2",
        "colab": {
          "base_uri": "https://localhost:8080/"
        },
        "outputId": "ad40dd12-171f-4aef-f42e-bf0a70353015"
      },
      "execution_count": 7,
      "outputs": [
        {
          "output_type": "stream",
          "name": "stdout",
          "text": [
            "maridu-sruthi-21jn1a4347\n",
            "--maridusruthi21jn1a4347\n"
          ]
        }
      ]
    },
    {
      "cell_type": "markdown",
      "source": [
        "**Write a program to find all permutations of a string.**"
      ],
      "metadata": {
        "id": "P98OCQCrtflX"
      }
    },
    {
      "cell_type": "code",
      "source": [
        "import itertools\n",
        "def permutationsofstring(str):\n",
        "  perms=itertools.permutations(str)\n",
        "  count=0\n",
        "  for i in perms:\n",
        "    print(\"\".join(i))\n",
        "    count=count+1\n",
        "  print(count)\n",
        "str=input()\n",
        "print(permutationsofstring(str))"
      ],
      "metadata": {
        "colab": {
          "base_uri": "https://localhost:8080/"
        },
        "id": "QNwkxB60thyR",
        "outputId": "f94a5c9e-6781-4f6a-dfdb-fdf1a0fbb9dd"
      },
      "execution_count": 14,
      "outputs": [
        {
          "output_type": "stream",
          "name": "stdout",
          "text": [
            "sri\n",
            "sri\n",
            "sir\n",
            "rsi\n",
            "ris\n",
            "isr\n",
            "irs\n",
            "6\n",
            "None\n"
          ]
        }
      ]
    },
    {
      "cell_type": "code",
      "source": [],
      "metadata": {
        "id": "EopbU6J7u_X9"
      },
      "execution_count": null,
      "outputs": []
    }
  ]
}