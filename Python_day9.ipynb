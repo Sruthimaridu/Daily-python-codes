{
  "nbformat": 4,
  "nbformat_minor": 0,
  "metadata": {
    "colab": {
      "provenance": [],
      "authorship_tag": "ABX9TyOdBy56p8bR49G1s7+4AAp0",
      "include_colab_link": true
    },
    "kernelspec": {
      "name": "python3",
      "display_name": "Python 3"
    },
    "language_info": {
      "name": "python"
    }
  },
  "cells": [
    {
      "cell_type": "markdown",
      "metadata": {
        "id": "view-in-github",
        "colab_type": "text"
      },
      "source": [
        "<a href=\"https://colab.research.google.com/github/Sruthimaridu/Daily-python-codes/blob/main/Python_day9.ipynb\" target=\"_parent\"><img src=\"https://colab.research.google.com/assets/colab-badge.svg\" alt=\"Open In Colab\"/></a>"
      ]
    },
    {
      "cell_type": "code",
      "execution_count": 1,
      "metadata": {
        "colab": {
          "base_uri": "https://localhost:8080/"
        },
        "id": "weTGxR6x7tie",
        "outputId": "2ae04c71-cfef-4960-f12c-cc310dfed8e4"
      },
      "outputs": [
        {
          "output_type": "stream",
          "name": "stdout",
          "text": [
            "The most repeated value is 3, which appears 4 times.\n"
          ]
        }
      ],
      "source": [
        "#printing the most repeated value in list\n",
        "from collections import Counter\n",
        "list=[1,3,2,3,4,5,3,2,1,3]\n",
        "counter=Counter(list)\n",
        "most,c=counter.most_common(1)[0]\n",
        "print(f\"The most repeated value is {most}, which appears {c} times.\")\n"
      ]
    },
    {
      "cell_type": "code",
      "source": [],
      "metadata": {
        "id": "9fowxZqX9WZw"
      },
      "execution_count": null,
      "outputs": []
    }
  ]
}