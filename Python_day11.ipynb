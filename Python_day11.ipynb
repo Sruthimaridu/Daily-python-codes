{
  "nbformat": 4,
  "nbformat_minor": 0,
  "metadata": {
    "colab": {
      "provenance": [],
      "authorship_tag": "ABX9TyOzQPTvRg5NEpEE1UgvorkJ",
      "include_colab_link": true
    },
    "kernelspec": {
      "name": "python3",
      "display_name": "Python 3"
    },
    "language_info": {
      "name": "python"
    }
  },
  "cells": [
    {
      "cell_type": "markdown",
      "metadata": {
        "id": "view-in-github",
        "colab_type": "text"
      },
      "source": [
        "<a href=\"https://colab.research.google.com/github/Sruthimaridu/Daily-python-codes/blob/main/Python_day11.ipynb\" target=\"_parent\"><img src=\"https://colab.research.google.com/assets/colab-badge.svg\" alt=\"Open In Colab\"/></a>"
      ]
    },
    {
      "cell_type": "code",
      "execution_count": 1,
      "metadata": {
        "colab": {
          "base_uri": "https://localhost:8080/"
        },
        "id": "hEQK7vHfF9Kj",
        "outputId": "6cf346ef-ecb3-4291-c70b-cf5a914a9678"
      },
      "outputs": [
        {
          "output_type": "stream",
          "name": "stdout",
          "text": [
            "is edydt "
          ]
        }
      ],
      "source": [
        "#printing The words start with Ovels in the given List\n",
        "l=[\"hello\",\"this\",\"is\",\"edydt\"]\n",
        "ovel=[\"a\",\"e\",\"i\",\"o\",\"u\"]\n",
        "for i in l:\n",
        "    if i[0] in ovel:\n",
        "        print(i,end=\" \")\n",
        "    else:\n",
        "        pass"
      ]
    },
    {
      "cell_type": "code",
      "source": [
        "#sorting the list without using sort function\n",
        "a=[23,65,34,7,950,34,0,2,56,86,74,547,89]\n",
        "for i in range(len(a)):\n",
        "    for j in range(i+1,len(a)):\n",
        "        if a[i]>a[j]:\n",
        "                   a[i],a[j]=a[j],a[i]\n",
        "print(a)"
      ],
      "metadata": {
        "colab": {
          "base_uri": "https://localhost:8080/"
        },
        "id": "qjeGXYZwHUaZ",
        "outputId": "14eb5be5-fc35-4edf-d9a2-15272ab15774"
      },
      "execution_count": 2,
      "outputs": [
        {
          "output_type": "stream",
          "name": "stdout",
          "text": [
            "[0, 2, 7, 23, 34, 34, 56, 65, 74, 86, 89, 547, 950]\n"
          ]
        }
      ]
    }
  ]
}