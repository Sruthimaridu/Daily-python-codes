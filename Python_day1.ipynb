{
  "nbformat": 4,
  "nbformat_minor": 0,
  "metadata": {
    "colab": {
      "provenance": [],
      "authorship_tag": "ABX9TyOgiMZTBoy3TLOKM/+M+zy7",
      "include_colab_link": true
    },
    "kernelspec": {
      "name": "python3",
      "display_name": "Python 3"
    },
    "language_info": {
      "name": "python"
    }
  },
  "cells": [
    {
      "cell_type": "markdown",
      "metadata": {
        "id": "view-in-github",
        "colab_type": "text"
      },
      "source": [
        "<a href=\"https://colab.research.google.com/github/Sruthimaridu/Daily-python-codes/blob/main/Python_day1.ipynb\" target=\"_parent\"><img src=\"https://colab.research.google.com/assets/colab-badge.svg\" alt=\"Open In Colab\"/></a>"
      ]
    },
    {
      "cell_type": "markdown",
      "source": [
        " **AUTOMORPHIC NUMBER**"
      ],
      "metadata": {
        "id": "ppGqFXiM4QUU"
      }
    },
    {
      "cell_type": "code",
      "execution_count": null,
      "metadata": {
        "colab": {
          "base_uri": "https://localhost:8080/"
        },
        "id": "ccnm_6FDxsoL",
        "outputId": "093cc6ee-3642-4f27-f976-504f492fd2fa"
      },
      "outputs": [
        {
          "output_type": "stream",
          "name": "stdout",
          "text": [
            "enter a number: 5\n",
            "Automorphic Number\n"
          ]
        }
      ],
      "source": [
        "#Automorphic number is the number which is the unit digit of the square of that number is equal to original number.\n",
        "def automorphicnumber(num):\n",
        "  square=num*num\n",
        "  n=square%10\n",
        "  if n==num:\n",
        "    return \"Automorphic Number\"\n",
        "  else:\n",
        "    return \"Not Automorphic Number\"\n",
        "num=int(input(\"enter a number: \"))\n",
        "print(automorphicnumber(num))"
      ]
    },
    {
      "cell_type": "markdown",
      "source": [
        "**ABUNDANT NUMBER**"
      ],
      "metadata": {
        "id": "FBlVJXd84KJW"
      }
    },
    {
      "cell_type": "code",
      "source": [
        "#The sum of factors of a number is greater than original number is called abundant number\n",
        "def abundant(n):\n",
        "  sum=0\n",
        "  for k in range(1,n):\n",
        "    if n%k==0:\n",
        "      sum+=k\n",
        "  if sum>n:\n",
        "    return \"Yes it's a Abundant Number\"\n",
        "  else:\n",
        "    return \"No it is not an Abundant Number\"\n",
        "n=int(input(\"enter a num: \"))\n",
        "print(abundant(n))\n"
      ],
      "metadata": {
        "colab": {
          "base_uri": "https://localhost:8080/"
        },
        "id": "ganO7l0syWZc",
        "outputId": "e5ceb9cb-c560-4c56-bdc9-0fb6d9e87e6a"
      },
      "execution_count": null,
      "outputs": [
        {
          "output_type": "stream",
          "name": "stdout",
          "text": [
            "enter a num: 12\n",
            "Yes it's a Abundant Number\n"
          ]
        }
      ]
    },
    {
      "cell_type": "markdown",
      "source": [
        "**FRIENDLY** **PAIR**"
      ],
      "metadata": {
        "id": "ZrpZQJbIAZF4"
      }
    },
    {
      "cell_type": "code",
      "source": [
        "#The sum of factors of the two numbers are divisible by their original numbers and the two sums is equal then those are called friendly pair\n",
        "def friendlypair(num,num2):\n",
        "  sum1=0\n",
        "  sum2=0\n",
        "  for i in range(1,num):\n",
        "    if num%i==0:\n",
        "      sum1+=i\n",
        "  for j in range(1,num2):\n",
        "    if num2%j==0:\n",
        "      sum2+=j\n",
        "  if sum1//num==sum2//num2:\n",
        "    return \"yes it's a friendly pair\"\n",
        "  else:\n",
        "    return \"no it is not a friendly pair\"\n",
        "\n",
        "num,num2==map(int,input().split())\n",
        "print(friendlypair(num,num2))"
      ],
      "metadata": {
        "colab": {
          "base_uri": "https://localhost:8080/"
        },
        "id": "r6t5q-jE7Bfe",
        "outputId": "e02965d8-8293-4d6f-b402-ba1e078f3fdc"
      },
      "execution_count": null,
      "outputs": [
        {
          "output_type": "stream",
          "name": "stdout",
          "text": [
            "6 28\n",
            "yes it's a friendly pair\n"
          ]
        }
      ]
    },
    {
      "cell_type": "markdown",
      "source": [
        "**PERFECT SQUARE**"
      ],
      "metadata": {
        "id": "WZP_ZBlsAd9y"
      }
    },
    {
      "cell_type": "code",
      "source": [
        "#The square root of a number is equal to the original number when it is multiplied with same number\n",
        "import math\n",
        "num=int(input(\"enter a number: \"))\n",
        "sqrtnum=math.sqrt(num)\n",
        "if sqrtnum*sqrtnum==num:\n",
        "  print(\"yes it's a perfect square\")\n",
        "else:\n",
        "  print(\"no it is not a perfect square\")"
      ],
      "metadata": {
        "id": "LqxZA5F09LWo",
        "colab": {
          "base_uri": "https://localhost:8080/"
        },
        "outputId": "029778ae-f08b-41cf-d60d-be2e3c9d2798"
      },
      "execution_count": null,
      "outputs": [
        {
          "output_type": "stream",
          "name": "stdout",
          "text": [
            "enter a number: 25\n",
            "yes it's a perfect square\n"
          ]
        }
      ]
    }
  ]
}