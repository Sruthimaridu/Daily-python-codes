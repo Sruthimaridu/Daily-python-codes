{
  "nbformat": 4,
  "nbformat_minor": 0,
  "metadata": {
    "colab": {
      "provenance": [],
      "authorship_tag": "ABX9TyOc9IhK13WS8X4IIUsszjCI",
      "include_colab_link": true
    },
    "kernelspec": {
      "name": "python3",
      "display_name": "Python 3"
    },
    "language_info": {
      "name": "python"
    }
  },
  "cells": [
    {
      "cell_type": "markdown",
      "metadata": {
        "id": "view-in-github",
        "colab_type": "text"
      },
      "source": [
        "<a href=\"https://colab.research.google.com/github/Sruthimaridu/Daily-python-codes/blob/main/Python_Day3.ipynb\" target=\"_parent\"><img src=\"https://colab.research.google.com/assets/colab-badge.svg\" alt=\"Open In Colab\"/></a>"
      ]
    },
    {
      "cell_type": "markdown",
      "source": [
        "**SUM OF FIRST 20  MULTIPLES OF A NUMBER**"
      ],
      "metadata": {
        "id": "YO_G31EgYchn"
      }
    },
    {
      "cell_type": "code",
      "execution_count": 1,
      "metadata": {
        "colab": {
          "base_uri": "https://localhost:8080/"
        },
        "id": "uuG6cLrFYXFb",
        "outputId": "acf8f4f8-58f9-4d81-eb84-69bf177ad69a"
      },
      "outputs": [
        {
          "output_type": "stream",
          "name": "stdout",
          "text": [
            "enter a number: 10\n",
            "2100\n"
          ]
        }
      ],
      "source": [
        "def multiples(n):\n",
        "  sum=0\n",
        "  for i in range(1,21):\n",
        "    mul=n*i\n",
        "    sum+=mul\n",
        "  return sum\n",
        "n=int(input(\"enter a number: \"))\n",
        "print(multiples(n))"
      ]
    },
    {
      "cell_type": "markdown",
      "source": [
        "**GOOGLY PRIME NUMEBR**"
      ],
      "metadata": {
        "id": "HnzXrb-iaAl5"
      }
    },
    {
      "cell_type": "code",
      "source": [
        "#Googly prime number is the number whose sum of individual digits results in a prime numeber.\n",
        "def prime(n):\n",
        "  if n<=1:\n",
        "    return False\n",
        "  else:\n",
        "    for i in range(2,n):\n",
        "      if n%i==0:\n",
        "        return False\n",
        "    return True\n",
        "def googlyprime(num):\n",
        "  sum=0\n",
        "  while num>0:\n",
        "    dig=num%10\n",
        "    sum=sum+dig\n",
        "    num=num//10\n",
        "  if prime(sum):\n",
        "      return \"yes\"\n",
        "  else:\n",
        "      return \"No\"\n",
        "num=int(input(\"enter a number: \"))\n",
        "print(googlyprime(num))"
      ],
      "metadata": {
        "colab": {
          "base_uri": "https://localhost:8080/"
        },
        "id": "675pG05aZq9e",
        "outputId": "7e166cc4-e203-4a49-cd06-93aa4fd2a03e"
      },
      "execution_count": 3,
      "outputs": [
        {
          "output_type": "stream",
          "name": "stdout",
          "text": [
            "enter a number: 43\n",
            "yes\n"
          ]
        }
      ]
    },
    {
      "cell_type": "markdown",
      "source": [
        "**PRIME FACTORS OF A NUMBER**"
      ],
      "metadata": {
        "id": "Q0Pxft9fb3Hy"
      }
    },
    {
      "cell_type": "code",
      "source": [
        "def prime(n):\n",
        "  if n<=1:\n",
        "    return False\n",
        "  else:\n",
        "    for i in range(2,n):\n",
        "      if n%i==0:\n",
        "        return False\n",
        "    return True\n",
        "def primefactors(num):\n",
        "  factors=[]\n",
        "  primefactors=[]\n",
        "  for i in range(1,num+1):\n",
        "    if num%i==0:\n",
        "      factors.append(i)\n",
        "      if prime(i):\n",
        "        primefactors.append(i)\n",
        "  return primefactors\n",
        "num=int(input(\"enter a number: \"))\n",
        "print(primefactors(num))"
      ],
      "metadata": {
        "colab": {
          "base_uri": "https://localhost:8080/"
        },
        "id": "uv1gjp_hb9Dm",
        "outputId": "286fed5a-545b-4bd4-a7b3-2f9c3496763d"
      },
      "execution_count": 4,
      "outputs": [
        {
          "output_type": "stream",
          "name": "stdout",
          "text": [
            "enter a number: 210\n",
            "[2, 3, 5, 7]\n"
          ]
        }
      ]
    },
    {
      "cell_type": "markdown",
      "source": [
        "**NEON NUMBER**"
      ],
      "metadata": {
        "id": "CTdadQT2dx4B"
      }
    },
    {
      "cell_type": "code",
      "source": [
        "#neon number is the numeber whose sum of digits of a number is equal to the same number.\n",
        "def neonnumber(n):\n",
        "  square=n*n\n",
        "  sum=0\n",
        "  while square>0:\n",
        "    dig=square%10\n",
        "    sum=sum+dig\n",
        "    square=square//10\n",
        "  if sum==n:\n",
        "    return \"yes\"\n",
        "  else:\n",
        "    return \"no\"\n",
        "n=int(input())\n",
        "print(neonnumber(n))"
      ],
      "metadata": {
        "colab": {
          "base_uri": "https://localhost:8080/"
        },
        "id": "DYD_XmRac4kb",
        "outputId": "5831757a-d2fc-4a3f-de09-09790740f602"
      },
      "execution_count": 5,
      "outputs": [
        {
          "output_type": "stream",
          "name": "stdout",
          "text": [
            "9\n",
            "yes\n"
          ]
        }
      ]
    }
  ]
}