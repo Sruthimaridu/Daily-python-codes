{
  "nbformat": 4,
  "nbformat_minor": 0,
  "metadata": {
    "colab": {
      "provenance": [],
      "authorship_tag": "ABX9TyNfNVPxM1kdZO9CRvDMqO9v",
      "include_colab_link": true
    },
    "kernelspec": {
      "name": "python3",
      "display_name": "Python 3"
    },
    "language_info": {
      "name": "python"
    }
  },
  "cells": [
    {
      "cell_type": "markdown",
      "metadata": {
        "id": "view-in-github",
        "colab_type": "text"
      },
      "source": [
        "<a href=\"https://colab.research.google.com/github/Sruthimaridu/Daily-python-codes/blob/main/Pythonday8.ipynb\" target=\"_parent\"><img src=\"https://colab.research.google.com/assets/colab-badge.svg\" alt=\"Open In Colab\"/></a>"
      ]
    },
    {
      "cell_type": "markdown",
      "source": [
        "Taking a number as input if the number is even then do n//2 and if the number is odd do 3(number)+1  do this process untill the result becomes 1 print all the numbers and also print count of how many times the operation was performed."
      ],
      "metadata": {
        "id": "uMZ0dgziCYzN"
      }
    },
    {
      "cell_type": "code",
      "source": [
        "n=int(input())\n",
        "count=0\n",
        "res=n\n",
        "while res!=1:\n",
        "    if res%2==0:\n",
        "        res=res//2\n",
        "        print(res)\n",
        "        count=count+1\n",
        "    else:\n",
        "        res=3*res+1\n",
        "        print(res)\n",
        "        count=count+1\n",
        "print(\"total times:\",count)\n",
        "\n"
      ],
      "metadata": {
        "colab": {
          "base_uri": "https://localhost:8080/"
        },
        "id": "UthlYXFPx_L0",
        "outputId": "2b794c15-8d9e-4c8d-9629-835fe8677a81"
      },
      "execution_count": null,
      "outputs": [
        {
          "output_type": "stream",
          "name": "stdout",
          "text": [
            "5\n",
            "16\n",
            "8\n",
            "4\n",
            "2\n",
            "1\n",
            "total times: 5\n"
          ]
        }
      ]
    },
    {
      "cell_type": "markdown",
      "source": [
        "**printing the number as sum of prime numbers**"
      ],
      "metadata": {
        "id": "Z2g3cwZJDLgm"
      }
    },
    {
      "cell_type": "code",
      "source": [
        "n=int(input())\n",
        "arr=[]\n",
        "for i in range(2,n):\n",
        "    flag=0\n",
        "    for j in range(2,i):\n",
        "        if i%j==0:\n",
        "            flag=1\n",
        "    if flag==0:\n",
        "        arr.append(i)\n",
        "flag=0\n",
        "for i in range(len(arr)):\n",
        "    for j in range(i+1,len(arr)):\n",
        "        if arr[i]+arr[j]==n:\n",
        "            flag=1\n",
        "            print(\"elements are:\")\n",
        "            print(str(arr[i]),str(arr[j]))\n",
        "            break\n",
        "if flag==0:\n",
        "  print(\"no prime numbers gives the sum of given number\")\n",
        "\n"
      ],
      "metadata": {
        "id": "0cHObBrt6Wne",
        "colab": {
          "base_uri": "https://localhost:8080/"
        },
        "outputId": "78d2cd3b-9d27-4a4d-c5c7-3577e94b438f"
      },
      "execution_count": 9,
      "outputs": [
        {
          "output_type": "stream",
          "name": "stdout",
          "text": [
            "15\n",
            "elements are:\n",
            "2 13\n"
          ]
        }
      ]
    },
    {
      "cell_type": "markdown",
      "source": [
        "**converting a number into words**"
      ],
      "metadata": {
        "id": "fOUBCCr3DXVP"
      }
    },
    {
      "cell_type": "code",
      "source": [
        "pip install num2words\n"
      ],
      "metadata": {
        "colab": {
          "base_uri": "https://localhost:8080/"
        },
        "id": "nFpiDtMwHP-c",
        "outputId": "5efe3a2e-b033-4a7b-9c96-60ca46d8f40a"
      },
      "execution_count": 11,
      "outputs": [
        {
          "output_type": "stream",
          "name": "stdout",
          "text": [
            "Collecting num2words\n",
            "  Downloading num2words-0.5.13-py3-none-any.whl.metadata (12 kB)\n",
            "Collecting docopt>=0.6.2 (from num2words)\n",
            "  Downloading docopt-0.6.2.tar.gz (25 kB)\n",
            "  Preparing metadata (setup.py) ... \u001b[?25l\u001b[?25hdone\n",
            "Downloading num2words-0.5.13-py3-none-any.whl (143 kB)\n",
            "\u001b[2K   \u001b[90m━━━━━━━━━━━━━━━━━━━━━━━━━━━━━━━━━━━━━━━━\u001b[0m \u001b[32m143.3/143.3 kB\u001b[0m \u001b[31m4.8 MB/s\u001b[0m eta \u001b[36m0:00:00\u001b[0m\n",
            "\u001b[?25hBuilding wheels for collected packages: docopt\n",
            "  Building wheel for docopt (setup.py) ... \u001b[?25l\u001b[?25hdone\n",
            "  Created wheel for docopt: filename=docopt-0.6.2-py2.py3-none-any.whl size=13704 sha256=a14a2f24731425d3666664bc31c2461a76357eedbb05361b3663297dc81e2d6e\n",
            "  Stored in directory: /root/.cache/pip/wheels/fc/ab/d4/5da2067ac95b36618c629a5f93f809425700506f72c9732fac\n",
            "Successfully built docopt\n",
            "Installing collected packages: docopt, num2words\n",
            "Successfully installed docopt-0.6.2 num2words-0.5.13\n"
          ]
        }
      ]
    },
    {
      "cell_type": "code",
      "source": [
        "from num2words import num2words\n",
        "n=int(input())\n",
        "print(num2words(n))"
      ],
      "metadata": {
        "colab": {
          "base_uri": "https://localhost:8080/"
        },
        "id": "IYP01Q7yHFAo",
        "outputId": "607e9189-2419-4c5d-88f3-b1cc95960559"
      },
      "execution_count": 12,
      "outputs": [
        {
          "output_type": "stream",
          "name": "stdout",
          "text": [
            "3456\n",
            "three thousand, four hundred and fifty-six\n"
          ]
        }
      ]
    }
  ]
}