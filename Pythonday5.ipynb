{
  "nbformat": 4,
  "nbformat_minor": 0,
  "metadata": {
    "colab": {
      "provenance": [],
      "authorship_tag": "ABX9TyMReQCjspxsEuSGaNVjqhko",
      "include_colab_link": true
    },
    "kernelspec": {
      "name": "python3",
      "display_name": "Python 3"
    },
    "language_info": {
      "name": "python"
    }
  },
  "cells": [
    {
      "cell_type": "markdown",
      "metadata": {
        "id": "view-in-github",
        "colab_type": "text"
      },
      "source": [
        "<a href=\"https://colab.research.google.com/github/Sruthimaridu/Daily-python-codes/blob/main/Pythonday5.ipynb\" target=\"_parent\"><img src=\"https://colab.research.google.com/assets/colab-badge.svg\" alt=\"Open In Colab\"/></a>"
      ]
    },
    {
      "cell_type": "markdown",
      "source": [
        "N-base notation is a system for writing numbers that uses only n different symbols, This symbols are the first n symbols from the given notation list(Including the symbol for o) Decimal to n base notation are (0:0, 1:1, 2:2, 3:3, 4:4, 5:5, 6:6, 7:7, 8:8, 9:9, 10:A,11:B and so on upto 35:Z).\n",
        "\n",
        "Implement the following function char DectoNBase(int n, int num):*\n",
        "\n",
        "The function accept positive integer n and num Implement the function to calculate the n-base equivalent of num and return the same as a string\n",
        "\n",
        "Steps:\n",
        "\n",
        "Divide the decimal number by n,Treat the division as the integer division\n",
        "\n",
        "Write the the remainder (in n-base notation)\n",
        "\n",
        "Divide the quotient again by n, Treat the division as integer division\n",
        "\n",
        "Repeat step 2 and 3 until the quotient is 0\n",
        "\n",
        "The n-base value is the sequence of the remainders from last to first\n",
        "\n",
        "Assumption: 1 < n < = 36\n",
        "\n",
        "Example Input\n",
        "\n",
        "n: 12\n",
        "\n",
        "num: 718\n",
        "\n",
        "Output\n",
        "\n",
        "4BA\n",
        "\n",
        "Explanation num = 718, divisor = 12, quotient=59, remainder=10(A).\n",
        "\n",
        "num = 59, divisor = 12, quotient=4, remainder=11(B).\n",
        "\n",
        "num = 4, divisor = 12, quotient=0, remainder=4(A).\n",
        "\n"
      ],
      "metadata": {
        "id": "GKhI1-9DyASi"
      }
    },
    {
      "cell_type": "code",
      "execution_count": null,
      "metadata": {
        "colab": {
          "base_uri": "https://localhost:8080/"
        },
        "id": "pHU0V9amvf22",
        "outputId": "76524ef6-6ce8-4ee0-c0fd-4a6703ccee22"
      },
      "outputs": [
        {
          "output_type": "stream",
          "name": "stdout",
          "text": [
            "718\n",
            "12\n",
            "4BA \n"
          ]
        }
      ],
      "source": [
        "num=int(input())\n",
        "div=int(input())\n",
        "list=\"0123456789ABCDEFGHIJKLMNOPQRSTUVWXYZ\"\n",
        "res=\" \"\n",
        "while num>0:\n",
        "  res=list[num%div]+res\n",
        "  num=num//div\n",
        "print(res)"
      ]
    },
    {
      "cell_type": "markdown",
      "source": [
        "You are required to input the size of the matrix then the elements of matrix, then you have to divide the main matrix in two sub matrices (even and odd) in such a way that element at 0 index will be considered as even and element at 1st index will be considered as odd and so on. Then you have sort the even and odd matrices in ascending order and print the sum of second largest number from both the matrices.\n",
        "\n",
        " Example enter the size of array : 5\n",
        "\n",
        " enter element at 0 index : 3\n",
        "\n",
        "  enter element at 1 index : 4\n",
        "  \n",
        "  enter element at 2 index : 1\n",
        "  \n",
        "  enter element at 3 index : 7\n",
        "  \n",
        "   enter element at 4 index : 9\n",
        "   \n",
        "   Sorted even array : 1 3 9\n",
        "   \n",
        "   Sorted odd array : 4 7\n",
        "   \n",
        "   Sum = 7"
      ],
      "metadata": {
        "id": "IrhxAMZKyEJ-"
      }
    },
    {
      "cell_type": "code",
      "source": [
        "array = [3,4,7,1,9]\n",
        "even_array = []\n",
        "odd_array = []\n",
        "for i in range(len(array)):\n",
        "    if i % 2 == 0:\n",
        "        even_array.append(array[i])\n",
        "    else:\n",
        "        odd_array.append(array[i])\n",
        "even_array.sort()\n",
        "odd_array.sort()\n",
        "print(\"evensorted array\",even_array)\n",
        "print(\"odd sorted array\",odd_array)\n",
        "print(even_array[-2] + odd_array[-2])"
      ],
      "metadata": {
        "colab": {
          "base_uri": "https://localhost:8080/"
        },
        "id": "xRQXJqBZwkUE",
        "outputId": "127ad67c-e1a2-4ba8-84a4-57905286b6b8"
      },
      "execution_count": null,
      "outputs": [
        {
          "output_type": "stream",
          "name": "stdout",
          "text": [
            "evensorted array [3, 7, 9]\n",
            "odd sorted array [1, 4]\n",
            "8\n"
          ]
        }
      ]
    },
    {
      "cell_type": "markdown",
      "source": [
        "**LENGTH OF LONGEST SUBSTRING IN THE GIVEN STRING**"
      ],
      "metadata": {
        "id": "MRuFy1RPyecC"
      }
    },
    {
      "cell_type": "code",
      "source": [
        "def longestsubstring(s1,s2):\n",
        "  longsubstring=\"\"\n",
        "  for i in range(len(s1)):\n",
        "    for j in range(i+1,len(s1)+1):\n",
        "      if s1[i:j] in s2 and len(s1[i:j])>len(longsubstring):\n",
        "        longsubstring=s1[i:j]\n",
        "  return (longsubstring,len(longsubstring))\n",
        "s1=input()\n",
        "s2=input()\n",
        "print(longestsubstring(s1,s2))"
      ],
      "metadata": {
        "colab": {
          "base_uri": "https://localhost:8080/"
        },
        "id": "14mi4t7qytGD",
        "outputId": "170709f9-13e4-46a8-9cad-93caae36086c"
      },
      "execution_count": null,
      "outputs": [
        {
          "output_type": "stream",
          "name": "stdout",
          "text": [
            "abcdefghijkl\n",
            "cdefklm\n",
            "('cdef', 4)\n"
          ]
        }
      ]
    },
    {
      "cell_type": "markdown",
      "source": [
        "\n",
        "You are required to implement the following function:\n",
        "int Calculate(int m, int n);\n",
        "\n",
        "The function accepts 2 positive integers ‘m’ and ‘n’ as its arguments.You\n",
        "are required to calculate the sum of numbers divisible both by 3 and 5,\n",
        "between ‘m’ and ‘n’ both inclusive and return the same.\n",
        "\n",
        "Note :\n",
        "0 < m <= n\n",
        "\n",
        "Example\n",
        "Input:\n",
        "\n",
        "m : 12\n",
        "\n",
        "n : 50\n",
        "\n",
        "Output\n",
        "\n",
        "90\n",
        "\n",
        "Explanation:\n",
        "The numbers divisible by both 3 and 5, between 12 and 50 both\n",
        "inclusive are {15, 30, 45} and their sum is 90."
      ],
      "metadata": {
        "id": "ICkDYyYl1UAy"
      }
    },
    {
      "cell_type": "code",
      "source": [
        "def calculate(m,n):\n",
        "  sum=0\n",
        "  for i in range(m,n+1):\n",
        "    if i%3==0 and i%5==0:\n",
        "      sum+=i\n",
        "  return sum\n",
        "m=int(input())\n",
        "n=int(input())\n",
        "print(calculate(m,n))"
      ],
      "metadata": {
        "colab": {
          "base_uri": "https://localhost:8080/"
        },
        "id": "B5LxoOD11WVz",
        "outputId": "e3d8992a-3955-4766-c625-2e3b83665a55"
      },
      "execution_count": null,
      "outputs": [
        {
          "output_type": "stream",
          "name": "stdout",
          "text": [
            "12\n",
            "50\n",
            "90\n"
          ]
        }
      ]
    }
  ]
}