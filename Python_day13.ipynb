{
  "nbformat": 4,
  "nbformat_minor": 0,
  "metadata": {
    "colab": {
      "provenance": [],
      "authorship_tag": "ABX9TyNILlh+mXvnlKy84Sa0NPWM",
      "include_colab_link": true
    },
    "kernelspec": {
      "name": "python3",
      "display_name": "Python 3"
    },
    "language_info": {
      "name": "python"
    }
  },
  "cells": [
    {
      "cell_type": "markdown",
      "metadata": {
        "id": "view-in-github",
        "colab_type": "text"
      },
      "source": [
        "<a href=\"https://colab.research.google.com/github/Sruthimaridu/Daily-python-codes/blob/main/Python_day13.ipynb\" target=\"_parent\"><img src=\"https://colab.research.google.com/assets/colab-badge.svg\" alt=\"Open In Colab\"/></a>"
      ]
    },
    {
      "cell_type": "code",
      "execution_count": 8,
      "metadata": {
        "colab": {
          "base_uri": "https://localhost:8080/"
        },
        "id": "PrjDyB6UnHSr",
        "outputId": "eb4ad865-0ee7-46a6-bfa7-bb57e49cf505"
      },
      "outputs": [
        {
          "output_type": "stream",
          "name": "stdout",
          "text": [
            "6\n",
            "[1, 2]\n"
          ]
        }
      ],
      "source": [
        "#given an array and target print the indexes of elements in the given array untill the ssum of elements is equal to target\n",
        "def arraysum(arr,target):\n",
        "    for i in range(len(arr)):\n",
        "        for j in range(i+1,len(arr)):\n",
        "            if arr[i]+arr[j]==target:\n",
        "                return [i,j]\n",
        "arr=[3,2,4]\n",
        "target=int(input())\n",
        "print(arraysum(arr,target))"
      ]
    },
    {
      "cell_type": "code",
      "source": [
        "#finding the longest palindromic substring in the given string\n",
        "def longestpalindrome(s):\n",
        "    longest=\"\"\n",
        "    for i in range(len(s)):\n",
        "        for j in range(i,len(s)):\n",
        "            sub=s[i:j+1]\n",
        "            if sub==sub[::-1]:\n",
        "                if len(sub)>len(longest):\n",
        "                    longest=sub\n",
        "    return longest\n",
        "s=input()\n",
        "print(longestpalindrome(s))\n",
        "\n",
        "\n"
      ],
      "metadata": {
        "colab": {
          "base_uri": "https://localhost:8080/"
        },
        "id": "1tFwORegvRMF",
        "outputId": "5a9b9936-1378-4813-c30e-9327c39b3196"
      },
      "execution_count": 9,
      "outputs": [
        {
          "output_type": "stream",
          "name": "stdout",
          "text": [
            "babad\n",
            "bab\n"
          ]
        }
      ]
    }
  ]
}