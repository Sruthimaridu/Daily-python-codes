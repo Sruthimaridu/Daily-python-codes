{
  "nbformat": 4,
  "nbformat_minor": 0,
  "metadata": {
    "colab": {
      "provenance": [],
      "authorship_tag": "ABX9TyNZNEw/s9bhdXUEm47GWZcB",
      "include_colab_link": true
    },
    "kernelspec": {
      "name": "python3",
      "display_name": "Python 3"
    },
    "language_info": {
      "name": "python"
    }
  },
  "cells": [
    {
      "cell_type": "markdown",
      "metadata": {
        "id": "view-in-github",
        "colab_type": "text"
      },
      "source": [
        "<a href=\"https://colab.research.google.com/github/Sruthimaridu/Daily-python-codes/blob/main/Python_Day2.ipynb\" target=\"_parent\"><img src=\"https://colab.research.google.com/assets/colab-badge.svg\" alt=\"Open In Colab\"/></a>"
      ]
    },
    {
      "cell_type": "markdown",
      "source": [
        "**VOWEL CONSONANT COUNT**"
      ],
      "metadata": {
        "id": "NVd6k7Hf6nWd"
      }
    },
    {
      "cell_type": "code",
      "execution_count": 3,
      "metadata": {
        "colab": {
          "base_uri": "https://localhost:8080/"
        },
        "id": "OoBLpPaa6gw_",
        "outputId": "c2ea324e-567b-4189-a296-84ddf74edb27"
      },
      "outputs": [
        {
          "output_type": "stream",
          "name": "stdout",
          "text": [
            "eneter a string: suryateja\n",
            "No.of vowels: 4\n",
            "No.of consonants: 5\n"
          ]
        }
      ],
      "source": [
        "#counting the number of vowels and consonants in a given string\n",
        "def vowels_and_consonants(s):\n",
        "  vowels = 0\n",
        "  consonants = 0\n",
        "  a=['a','e','i','o','u']\n",
        "  for i in s:\n",
        "    if i in a:\n",
        "        vowels += 1\n",
        "    else:\n",
        "        consonants += 1\n",
        "  return vowels, consonants\n",
        "s=input(\"eneter a string: \")\n",
        "vowels, consonants = vowels_and_consonants(s)\n",
        "print(\"No.of vowels:\", vowels)\n",
        "print(\"No.of consonants:\", consonants)"
      ]
    },
    {
      "cell_type": "markdown",
      "source": [
        "**TOGGLE EACH CHARACTER INA STRING**"
      ],
      "metadata": {
        "id": "TE8omrO_-LKn"
      }
    },
    {
      "cell_type": "code",
      "source": [
        "#changing the case by using built_in method\n",
        "s=input(\"enter a string: \")\n",
        "s1=s.swapcase()\n",
        "print(s1)"
      ],
      "metadata": {
        "colab": {
          "base_uri": "https://localhost:8080/"
        },
        "id": "qcDexGai7mAH",
        "outputId": "0ad35966-7d75-4f77-c47a-36dd39c56106"
      },
      "execution_count": 4,
      "outputs": [
        {
          "output_type": "stream",
          "name": "stdout",
          "text": [
            "enter a string: SRuthi\n",
            "srUTHI\n"
          ]
        }
      ]
    },
    {
      "cell_type": "code",
      "source": [
        "#changing the case without built_in method\n",
        "def swapcase(s):\n",
        "    s1=\" \"\n",
        "    for i in s:\n",
        "        if i.isupper():\n",
        "            i=i.lower()\n",
        "            s1+=i\n",
        "        else:\n",
        "            i=i.upper()\n",
        "            s1+=i\n",
        "    return s1\n",
        "s=input(\"enter a string: \")\n",
        "s1=swapcase(s)\n",
        "print(s1)"
      ],
      "metadata": {
        "colab": {
          "base_uri": "https://localhost:8080/"
        },
        "id": "YJsyUsptC6Sj",
        "outputId": "efe8eb7a-1de9-40dc-942f-c96f13c55051"
      },
      "execution_count": 5,
      "outputs": [
        {
          "output_type": "stream",
          "name": "stdout",
          "text": [
            "enter a string: SuryaTeja\n",
            " sURYAtEJA\n"
          ]
        }
      ]
    },
    {
      "cell_type": "markdown",
      "source": [
        "**CHANGING FIRST AND LAST CAHRACTERS TO UPPERCASE IN A GIVEN WORD**"
      ],
      "metadata": {
        "id": "CO3tMSdGFBB2"
      }
    },
    {
      "cell_type": "code",
      "source": [
        "s=input(\"enter a string: \")\n",
        "s1=s[0].upper()+s[1:-1]+s[-1].upper()\n",
        "print(s1)"
      ],
      "metadata": {
        "colab": {
          "base_uri": "https://localhost:8080/"
        },
        "id": "O9u9wNSjFQMI",
        "outputId": "7aa4fb59-0601-48bf-8ed0-dd8984cf0979"
      },
      "execution_count": 6,
      "outputs": [
        {
          "output_type": "stream",
          "name": "stdout",
          "text": [
            "enter a string: sruthi\n",
            "SruthI\n"
          ]
        }
      ]
    },
    {
      "cell_type": "markdown",
      "source": [
        "**CHANGING THE FIRST AND LAST CHARACTERS TO UPEERCASE IN EVERY WORD IN A SENTENCE**"
      ],
      "metadata": {
        "id": "uOsmHhbIFtlJ"
      }
    },
    {
      "cell_type": "code",
      "source": [
        "str=input()\n",
        "words=str.split()\n",
        "capital_words=[]\n",
        "for word in words:\n",
        "  if len(word)>1:\n",
        "    cap_word=word[0].upper()+word[1:-1]+word[-1].upper()\n",
        "  else:\n",
        "    cap_word=word.upper()\n",
        "  capital_words.append(cap_word)\n",
        "print(\" \".join(capital_words))"
      ],
      "metadata": {
        "colab": {
          "base_uri": "https://localhost:8080/"
        },
        "id": "7uS1ET7ZF-QS",
        "outputId": "6f2d5df7-efa5-4d35-f874-bf5f6958a799"
      },
      "execution_count": 9,
      "outputs": [
        {
          "output_type": "stream",
          "name": "stdout",
          "text": [
            "crack a word\n",
            "CracK A WorD\n"
          ]
        }
      ]
    },
    {
      "cell_type": "markdown",
      "source": [
        "**REVERSE THE WORDS OF A STATEMENT**"
      ],
      "metadata": {
        "id": "kTijMlFuJyCy"
      }
    },
    {
      "cell_type": "code",
      "source": [
        "str=input()\n",
        "words=str.split()\n",
        "rev_words=words[::-1]\n",
        "print(\" \".join(rev_words))"
      ],
      "metadata": {
        "colab": {
          "base_uri": "https://localhost:8080/"
        },
        "id": "qblj_HsjFnfs",
        "outputId": "82b4b7e9-678d-48a5-c71c-a64c35d7dfa8"
      },
      "execution_count": 10,
      "outputs": [
        {
          "output_type": "stream",
          "name": "stdout",
          "text": [
            "iam sruthi\n",
            "sruthi iam\n"
          ]
        }
      ]
    },
    {
      "cell_type": "code",
      "source": [],
      "metadata": {
        "id": "FmAHl6wPKfmd"
      },
      "execution_count": null,
      "outputs": []
    }
  ]
}