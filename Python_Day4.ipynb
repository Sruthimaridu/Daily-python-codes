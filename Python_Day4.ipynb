{
  "nbformat": 4,
  "nbformat_minor": 0,
  "metadata": {
    "colab": {
      "provenance": [],
      "authorship_tag": "ABX9TyMiUyDO/adU4QoPad7+swta",
      "include_colab_link": true
    },
    "kernelspec": {
      "name": "python3",
      "display_name": "Python 3"
    },
    "language_info": {
      "name": "python"
    }
  },
  "cells": [
    {
      "cell_type": "markdown",
      "metadata": {
        "id": "view-in-github",
        "colab_type": "text"
      },
      "source": [
        "<a href=\"https://colab.research.google.com/github/Sruthimaridu/Daily-python-codes/blob/main/Python_Day4.ipynb\" target=\"_parent\"><img src=\"https://colab.research.google.com/assets/colab-badge.svg\" alt=\"Open In Colab\"/></a>"
      ]
    },
    {
      "cell_type": "markdown",
      "source": [
        "**HCF OF TWO NUMBERS**"
      ],
      "metadata": {
        "id": "VnLhwh1st70H"
      }
    },
    {
      "cell_type": "code",
      "execution_count": 4,
      "metadata": {
        "id": "K5oXLIJFrRdm",
        "colab": {
          "base_uri": "https://localhost:8080/"
        },
        "outputId": "95659d5b-4ba0-4dc9-de91-8affc1a1a569"
      },
      "outputs": [
        {
          "output_type": "stream",
          "name": "stdout",
          "text": [
            "36\n",
            "60\n",
            "The HCF of 36 and 60 is 12\n"
          ]
        }
      ],
      "source": [
        "num1=int(input())\n",
        "num2=int(input())\n",
        "for i in range(1,min(num1,num2)):\n",
        "  if num1%i==0 and num2%i==0:\n",
        "    hcf=i\n",
        "print(f\"The HCF of {num1} and {num2} is\",hcf)"
      ]
    },
    {
      "cell_type": "markdown",
      "source": [
        "**LCM OF TWO NUMBERS**"
      ],
      "metadata": {
        "id": "88GNg7lWu9Jr"
      }
    },
    {
      "cell_type": "code",
      "source": [
        "num1=int(input())\n",
        "num2=int(input())\n",
        "for i in range(1,max(num1,num2)):\n",
        "  if num1%i==0 and num2%i==0:\n",
        "    hcf=i\n",
        "lcm=(num1*num2)//hcf\n",
        "print(f\"The LCM of {num1} and {num2} is\",lcm)"
      ],
      "metadata": {
        "id": "h9MmxOcXuW1_",
        "colab": {
          "base_uri": "https://localhost:8080/"
        },
        "outputId": "991c4178-43e5-47c6-c154-37165ba4baef"
      },
      "execution_count": 5,
      "outputs": [
        {
          "output_type": "stream",
          "name": "stdout",
          "text": [
            "12\n",
            "14\n",
            "The LCM of 12 and 14 is 84\n"
          ]
        }
      ]
    },
    {
      "cell_type": "markdown",
      "source": [
        "**REVERSIE THE WORDS IN A GIVEN STRING**"
      ],
      "metadata": {
        "id": "zfTwGbakwT4g"
      }
    },
    {
      "cell_type": "code",
      "source": [
        "str=input()\n",
        "arr=str.split()\n",
        "rev_words=arr[::-1]\n",
        "print(\",\".join(rev_words))"
      ],
      "metadata": {
        "colab": {
          "base_uri": "https://localhost:8080/"
        },
        "id": "i6CGe6R-xIKc",
        "outputId": "89e421e3-53b5-450e-cb2b-d1427057736f"
      },
      "execution_count": 6,
      "outputs": [
        {
          "output_type": "stream",
          "name": "stdout",
          "text": [
            "hello python world\n",
            "world,python,hello\n"
          ]
        }
      ]
    },
    {
      "cell_type": "markdown",
      "source": [
        "**REVERSE THE LETTERS IN A GIVEN STRING WORDWISE**"
      ],
      "metadata": {
        "id": "nVXfSsGDxfz1"
      }
    },
    {
      "cell_type": "code",
      "source": [
        "str=input()\n",
        "arr=list(str)\n",
        "rev_letters=arr[::-1]\n",
        "print(\"\".join(rev_letters))"
      ],
      "metadata": {
        "colab": {
          "base_uri": "https://localhost:8080/"
        },
        "id": "2RFb5iclyX0Z",
        "outputId": "31f09d9f-bb05-46b3-dbe5-4e49c2bbb443"
      },
      "execution_count": 7,
      "outputs": [
        {
          "output_type": "stream",
          "name": "stdout",
          "text": [
            "hello python world\n",
            "dlrow nohtyp olleh\n"
          ]
        }
      ]
    },
    {
      "cell_type": "markdown",
      "source": [
        "**MAXIMUM NUMBER OF HANDSHAKES**"
      ],
      "metadata": {
        "id": "RvOZZG4Vy24N"
      }
    },
    {
      "cell_type": "code",
      "source": [
        "n=int(input(\"no.of people: \"))\n",
        "handshakes=0\n",
        "for i in range(1,n+1):\n",
        "  handshakes+=(n-i)\n",
        "print(handshakes)\n"
      ],
      "metadata": {
        "colab": {
          "base_uri": "https://localhost:8080/"
        },
        "id": "eLZ_Bb6G1H9z",
        "outputId": "e8bc4b6a-13a0-4223-b07a-35092fb9ba50"
      },
      "execution_count": 9,
      "outputs": [
        {
          "output_type": "stream",
          "name": "stdout",
          "text": [
            "no.of people: 30\n",
            "435\n"
          ]
        }
      ]
    },
    {
      "cell_type": "code",
      "source": [],
      "metadata": {
        "id": "sCOkxNoU1oY7"
      },
      "execution_count": null,
      "outputs": []
    }
  ]
}