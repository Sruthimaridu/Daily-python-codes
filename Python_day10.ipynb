{
  "nbformat": 4,
  "nbformat_minor": 0,
  "metadata": {
    "colab": {
      "provenance": [],
      "authorship_tag": "ABX9TyMqeOBji2XHYGBIDTSxiYVo",
      "include_colab_link": true
    },
    "kernelspec": {
      "name": "python3",
      "display_name": "Python 3"
    },
    "language_info": {
      "name": "python"
    }
  },
  "cells": [
    {
      "cell_type": "markdown",
      "metadata": {
        "id": "view-in-github",
        "colab_type": "text"
      },
      "source": [
        "<a href=\"https://colab.research.google.com/github/Sruthimaridu/Daily-python-codes/blob/main/Python_day10.ipynb\" target=\"_parent\"><img src=\"https://colab.research.google.com/assets/colab-badge.svg\" alt=\"Open In Colab\"/></a>"
      ]
    },
    {
      "cell_type": "code",
      "execution_count": null,
      "metadata": {
        "colab": {
          "base_uri": "https://localhost:8080/"
        },
        "id": "hvgoDf-Vv39p",
        "outputId": "b4f5244a-bc34-4549-d6bb-5873430bf732"
      },
      "outputs": [
        {
          "output_type": "stream",
          "name": "stdout",
          "text": [
            "{1: 4, 5: 3, 8: 2, 0: 1, 3: 1, 6: 1}\n"
          ]
        }
      ],
      "source": [
        "#printing the number of times a number appears in the given list in the form of key value pair\n",
        "#list = [1,5,8,0,1,8,1,5,1]\n",
        "#1:4,0:1,5:2,8:2\n",
        "l = [1,5,8,0,1,8,1,5,1,3,5,6]\n",
        "d={}\n",
        "for i in l:\n",
        "    c=l.count(i)\n",
        "    d[i]=c\n",
        "print(d)\n",
        "\n"
      ]
    },
    {
      "cell_type": "code",
      "source": [
        "#printing unique value in list\n",
        "l=[1,5,8,0,1,8,1,5,1]\n",
        "for i in l:\n",
        "    if l.count(i)==1:\n",
        "        print(i)\n",
        "        print(l.index(i))\n"
      ],
      "metadata": {
        "id": "CgbhwNV9y_cX",
        "colab": {
          "base_uri": "https://localhost:8080/"
        },
        "outputId": "95a3ff36-0d84-4b55-f0e8-8420a45b2138"
      },
      "execution_count": 3,
      "outputs": [
        {
          "output_type": "stream",
          "name": "stdout",
          "text": [
            "0\n",
            "3\n"
          ]
        }
      ]
    }
  ]
}